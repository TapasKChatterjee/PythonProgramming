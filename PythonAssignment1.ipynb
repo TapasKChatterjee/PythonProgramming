{
 "cells": [
  {
   "cell_type": "markdown",
   "id": "746325a6",
   "metadata": {},
   "source": [
    "### 1. Explain with an example each when to use a for loop and a while loop."
   ]
  },
  {
   "cell_type": "markdown",
   "id": "7c5fc4ce",
   "metadata": {},
   "source": [
    "for loop can be used when iterating over a sequence like elements in a list"
   ]
  },
  {
   "cell_type": "code",
   "execution_count": 4,
   "id": "cf677318",
   "metadata": {},
   "outputs": [
    {
     "name": "stdout",
     "output_type": "stream",
     "text": [
      "apple\n",
      "banana\n",
      "mango\n"
     ]
    }
   ],
   "source": [
    "fruits=['apple','banana','mango']\n",
    "for i in fruits:\n",
    "    print(i)    "
   ]
  },
  {
   "cell_type": "markdown",
   "id": "f21cc6cb",
   "metadata": {},
   "source": [
    "for loop can be used when you have a range based iterations i.e when you want know the number of time a code block needs to be repeated"
   ]
  },
  {
   "cell_type": "code",
   "execution_count": 5,
   "id": "d21be4a4",
   "metadata": {},
   "outputs": [
    {
     "name": "stdout",
     "output_type": "stream",
     "text": [
      "0\n",
      "1\n",
      "2\n",
      "3\n",
      "4\n"
     ]
    }
   ],
   "source": [
    "for i in range(5):\n",
    "    print(i)"
   ]
  },
  {
   "cell_type": "markdown",
   "id": "faf7d0c3",
   "metadata": {},
   "source": [
    "while loop is used when you don't know the number of times a codeblock needs to be repated i.e. when you want the code block to be repeated till a condition is met\n"
   ]
  },
  {
   "cell_type": "code",
   "execution_count": 7,
   "id": "c0dfe28a",
   "metadata": {},
   "outputs": [
    {
     "name": "stdout",
     "output_type": "stream",
     "text": [
      "Iteration 3\n",
      "Iteration 2\n",
      "Iteration 1\n"
     ]
    }
   ],
   "source": [
    "count=3\n",
    "while count>0:\n",
    "    print('Iteration', count)\n",
    "    count-=1"
   ]
  },
  {
   "cell_type": "markdown",
   "id": "eeb80507",
   "metadata": {},
   "source": [
    "while loop can be used when you want to execute a code block till a valid input is received"
   ]
  },
  {
   "cell_type": "code",
   "execution_count": 11,
   "id": "272cdcaf",
   "metadata": {},
   "outputs": [
    {
     "name": "stdout",
     "output_type": "stream",
     "text": [
      "Enter yes to continue yes\n",
      "All good. Want to repeate again?\n",
      "Enter yes to continue yes\n",
      "All good. Want to repeate again?\n",
      "Enter yes to continue yes\n",
      "All good. Want to repeate again?\n",
      "Enter yes to continue no\n",
      "Bye, have a good day\n"
     ]
    }
   ],
   "source": [
    "user_input=input('Enter yes to continue ')\n",
    "while user_input.lower()=='yes':\n",
    "    print('All good. Want to repeate again?')\n",
    "    user_input=input('Enter yes to continue ')\n",
    "else:\n",
    "    print('Bye, have a good day')"
   ]
  },
  {
   "cell_type": "markdown",
   "id": "6d0249ec",
   "metadata": {},
   "source": [
    "### 2. Write a python program to print the sum and product of the first 10 natural numbers using for and while loop."
   ]
  },
  {
   "cell_type": "code",
   "execution_count": 2,
   "id": "8828ab23",
   "metadata": {},
   "outputs": [
    {
     "name": "stdout",
     "output_type": "stream",
     "text": [
      "Sum of first 10 natural numbers= 55\n"
     ]
    }
   ],
   "source": [
    "#using for loop\n",
    "sum_for=0\n",
    "for i in range(1,11):\n",
    "    sum_for=sum_for+i\n",
    "print('Using for loop sum of first 10 natural numbers=',sum_for)\n"
   ]
  },
  {
   "cell_type": "code",
   "execution_count": 3,
   "id": "7fdf796e",
   "metadata": {},
   "outputs": [
    {
     "name": "stdout",
     "output_type": "stream",
     "text": [
      "Using while loop sum of first 10 natural numbers= 55\n"
     ]
    }
   ],
   "source": [
    "#using while loop\n",
    "sum_while=0\n",
    "counter=1\n",
    "while counter <=10:\n",
    "    sum_while=sum_while+counter\n",
    "    counter=counter+1\n",
    "print('Using while loop sum of first 10 natural numbers=',sum_while)"
   ]
  },
  {
   "cell_type": "markdown",
   "id": "612ebdf1",
   "metadata": {},
   "source": [
    "### Q3. Create a python program to compute the electricity bill for a household.\n",
    "The per-unit charges in rupees are as follows: For the first 100 units, the user will be charged Rs. 4.5 per\n",
    "unit, for the next 100 units, the user will be charged Rs. 6 per unit, and for the next 100 units, the user will\n",
    "be charged Rs. 10 per unit, After 300 units and above the user will be charged Rs. 20 per unit.\n",
    "\n",
    "You are required to take the units of electricity consumed in a month from the user as input.\n",
    "\n",
    "Your program must pass this test case: when the unit of electricity consumed by the user in a month is\n",
    "310, the total electricity bill should be 2250."
   ]
  },
  {
   "cell_type": "code",
   "execution_count": 26,
   "id": "aa0bd365",
   "metadata": {},
   "outputs": [
    {
     "name": "stdout",
     "output_type": "stream",
     "text": [
      "Please enter the number of units consumed in the current month 310\n",
      "you need to pay a bill amount 2250.0\n"
     ]
    }
   ],
   "source": [
    "units_consumed=int(input(\"Please enter the number of units consumed in the current month \"))\n",
    "bill_amount=0\n",
    "if units_consumed <=100:\n",
    "    bill_amount=units_consumed * 4.5\n",
    "else:\n",
    "    bill_amount=bill_amount+100*4.5\n",
    "    units_consumed=units_consumed-100\n",
    "    if units_consumed <=100:\n",
    "        bill_amount=bill_amount+units_consumed*6\n",
    "    else:\n",
    "        bill_amount=bill_amount+100*6\n",
    "        units_consumed=units_consumed-100\n",
    "        if units_consumed <=100:\n",
    "            bill_amount=bill_amount+units_consumed*10\n",
    "        else:\n",
    "            bill_amount=bill_amount+100*10\n",
    "            units_consumed=units_consumed-100\n",
    "            bill_amount=bill_amount+units_consumed*20 \n",
    "print(\"you need to pay a bill amount\", bill_amount)\n",
    "        "
   ]
  },
  {
   "cell_type": "markdown",
   "id": "69ffff58",
   "metadata": {},
   "source": [
    "### Q4. Create a list of numbers from 1 to 100. Use for loop and while loop to calculate the cube of each number and if the cube of that number is divisible by 4 or 5 then append that number in a list and print that list."
   ]
  },
  {
   "cell_type": "code",
   "execution_count": 37,
   "id": "3033cb96",
   "metadata": {},
   "outputs": [
    {
     "name": "stdout",
     "output_type": "stream",
     "text": [
      "[1, 2, 3, 4, 5, 6, 7, 8, 9, 10, 11, 12, 13, 14, 15, 16, 17, 18, 19, 20, 21, 22, 23, 24, 25, 26, 27, 28, 29, 30, 31, 32, 33, 34, 35, 36, 37, 38, 39, 40, 41, 42, 43, 44, 45, 46, 47, 48, 49, 50, 51, 52, 53, 54, 55, 56, 57, 58, 59, 60, 61, 62, 63, 64, 65, 66, 67, 68, 69, 70, 71, 72, 73, 74, 75, 76, 77, 78, 79, 80, 81, 82, 83, 84, 85, 86, 87, 88, 89, 90, 91, 92, 93, 94, 95, 96, 97, 98, 99, 100]\n"
     ]
    }
   ],
   "source": [
    "list1=list(range(1,101))\n",
    "print(list1)\n",
    "list2=[]"
   ]
  },
  {
   "cell_type": "code",
   "execution_count": 38,
   "id": "42fb9250",
   "metadata": {},
   "outputs": [
    {
     "name": "stdout",
     "output_type": "stream",
     "text": [
      "[2, 4, 5, 6, 8, 10, 12, 14, 15, 16, 18, 20, 22, 24, 25, 26, 28, 30, 32, 34, 35, 36, 38, 40, 42, 44, 45, 46, 48, 50, 52, 54, 55, 56, 58, 60, 62, 64, 65, 66, 68, 70, 72, 74, 75, 76, 78, 80, 82, 84, 85, 86, 88, 90, 92, 94, 95, 96, 98, 100]\n"
     ]
    }
   ],
   "source": [
    "for i in list1:\n",
    "    num=i**3\n",
    "    if num%4==0 or num%5==0:\n",
    "        list2.append(i)\n",
    "print(list2)"
   ]
  },
  {
   "cell_type": "code",
   "execution_count": 39,
   "id": "6d0bed4e",
   "metadata": {},
   "outputs": [
    {
     "name": "stdout",
     "output_type": "stream",
     "text": [
      "[2, 4, 5, 6, 8, 10, 12, 14, 15, 16, 18, 20, 22, 24, 25, 26, 28, 30, 32, 34, 35, 36, 38, 40, 42, 44, 45, 46, 48, 50, 52, 54, 55, 56, 58, 60, 62, 64, 65, 66, 68, 70, 72, 74, 75, 76, 78, 80, 82, 84, 85, 86, 88, 90, 92, 94, 95, 96, 98, 100]\n"
     ]
    }
   ],
   "source": [
    "i=1\n",
    "list3=[]\n",
    "while i<=len(list1):\n",
    "    num=i**3\n",
    "    if num%4==0 or num%5==0:\n",
    "        list3.append(i)\n",
    "    i=i+1\n",
    "print(list3)"
   ]
  },
  {
   "cell_type": "markdown",
   "id": "71c5d4ce",
   "metadata": {},
   "source": [
    "### Q5. Write a program to filter count vowels in the below-given string. string = \"I want to become a data scientist\""
   ]
  },
  {
   "cell_type": "code",
   "execution_count": 56,
   "id": "1a65a0f4",
   "metadata": {},
   "outputs": [],
   "source": [
    "vowels=['a','e','i','o','u']\n",
    "new_list=[]"
   ]
  },
  {
   "cell_type": "code",
   "execution_count": 57,
   "id": "82e1fa7d",
   "metadata": {},
   "outputs": [],
   "source": [
    "string=\"I want to become a data scientist\""
   ]
  },
  {
   "cell_type": "code",
   "execution_count": 58,
   "id": "215d0b35",
   "metadata": {},
   "outputs": [
    {
     "name": "stdout",
     "output_type": "stream",
     "text": [
      "Number of vowels= 12\n"
     ]
    }
   ],
   "source": [
    "for i in string:\n",
    "    if i.lower() in vowels:\n",
    "        new_list.append(i)\n",
    "print('Number of vowels=',len(new_list))"
   ]
  },
  {
   "cell_type": "code",
   "execution_count": null,
   "id": "1375f80b",
   "metadata": {},
   "outputs": [],
   "source": []
  },
  {
   "cell_type": "code",
   "execution_count": null,
   "id": "6204001a",
   "metadata": {},
   "outputs": [],
   "source": []
  }
 ],
 "metadata": {
  "kernelspec": {
   "display_name": "Python 3 (ipykernel)",
   "language": "python",
   "name": "python3"
  },
  "language_info": {
   "codemirror_mode": {
    "name": "ipython",
    "version": 3
   },
   "file_extension": ".py",
   "mimetype": "text/x-python",
   "name": "python",
   "nbconvert_exporter": "python",
   "pygments_lexer": "ipython3",
   "version": "3.9.12"
  }
 },
 "nbformat": 4,
 "nbformat_minor": 5
}
