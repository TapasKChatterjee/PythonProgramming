{
 "cells": [
  {
   "cell_type": "markdown",
   "id": "d5fe14d8",
   "metadata": {},
   "source": [
    "### Q1. What is Abstraction in OOps? Explain with an example.\n"
   ]
  },
  {
   "cell_type": "markdown",
   "id": "c389d3a5",
   "metadata": {},
   "source": [
    "Abstraction in object-oriented programming (OOP) is the concept of hiding the complex implementation details and showing only the necessary features of an object. It allows you to focus on what an object does instead of how it does it.\n",
    "\n",
    "Think of it like using a television remote. You don't need to understand the internal circuitry or processes inside the television to use the remote; you just need to know how to press the buttons to change channels, adjust the volume, or power it on/off. The remote provides an abstract interface to interact with the TV without revealing the complexities of its inner workings.\n",
    "\n",
    "\n",
    "In OOP, abstraction is achieved using abstract classes and interfaces. Abstract classes define methods without implementation, leaving the concrete implementation to their subclasses. Interfaces, on the other hand, specify a set of methods that a class must implement without defining how those methods should be implemented. This allows for a clear separation between what needs to be done (the interface) and how it's actually done (the implementation).\n",
    "\n",
    "\n",
    "\n",
    "\n",
    "\n"
   ]
  },
  {
   "cell_type": "markdown",
   "id": "1391077e",
   "metadata": {},
   "source": [
    "In Python, abstraction in object-oriented programming involves creating abstract classes or interfaces that define a structure without implementing the details. This allows you to create a blueprint for other classes to follow without specifying how they should be implemented."
   ]
  },
  {
   "cell_type": "code",
   "execution_count": null,
   "id": "0f7a965e",
   "metadata": {},
   "outputs": [],
   "source": [
    "from abc import ABC, abstractmethod\n",
    "\n",
    "# Creating an abstract class\n",
    "class Vehicle(ABC):  # ABC stands for Abstract Base Class\n",
    "\n",
    "    def __init__(self, name):\n",
    "        self.name = name\n",
    "\n",
    "    @abstractmethod\n",
    "    def start(self):\n",
    "        pass\n",
    "\n",
    "    @abstractmethod\n",
    "    def stop(self):\n",
    "        pass\n",
    "\n",
    "# Creating a Car class that inherits from the Vehicle abstract class\n",
    "class Car(Vehicle):\n",
    "\n",
    "    def start(self):\n",
    "        return f\"{self.name} starts the engine.\"\n",
    "\n",
    "    def stop(self):\n",
    "        return f\"{self.name} stops the engine.\"\n",
    "\n",
    "# Creating a Bike class that also inherits from the Vehicle abstract class\n",
    "class Bike(Vehicle):\n",
    "\n",
    "    def start(self):\n",
    "        return f\"{self.name} starts pedaling.\"\n",
    "\n",
    "    def stop(self):\n",
    "        return f\"{self.name} stops pedaling.\"\n",
    "\n"
   ]
  },
  {
   "cell_type": "code",
   "execution_count": 2,
   "id": "8ca805b1",
   "metadata": {},
   "outputs": [
    {
     "name": "stdout",
     "output_type": "stream",
     "text": [
      "Car starts the engine.\n",
      "Bike stops pedaling.\n"
     ]
    }
   ],
   "source": [
    "# Trying to create an instance of the abstract class (which is not allowed)\n",
    "# vehicle = Vehicle(\"Generic Vehicle\")  # This will raise an error\n",
    "\n",
    "# Creating instances of the concrete classes\n",
    "car = Car(\"Car\")\n",
    "bike = Bike(\"Bike\")\n",
    "\n",
    "# Using the instances\n",
    "print(car.start())  # Output: Car starts the engine.\n",
    "print(bike.stop())  # Output: Bike stops pedaling."
   ]
  },
  {
   "cell_type": "markdown",
   "id": "1d53e6b7",
   "metadata": {},
   "source": [
    "### Q2. Differentiate between Abstraction and Encapsulation. Explain with an example.\n"
   ]
  },
  {
   "cell_type": "markdown",
   "id": "684f52dd",
   "metadata": {},
   "source": [
    "Abstraction and encapsulation are key principles in object-oriented programming (OOP) but serve different purposes:\n",
    "\n",
    "Abstraction focuses on showing essential features and hiding implementation details.\n",
    "\n",
    "It aims to simplify complexity and manage the complexity of systems by modeling classes appropriate to the problem domain.\n",
    "\n",
    "Example: Consider a TV remote. It abstracts the complex inner workings of the TV (e.g., circuits, components) and provides a simple interface (buttons) to interact with it.\n",
    "Encapsulation:\n",
    "\n",
    "Encapsulation involves bundling the data (attributes) and the methods (functions) that manipulate the data into a single unit, i.e., a class.\n",
    "\n",
    "It aims to protect the internal state of an object by restricting direct access to some of its components. It hides the state and enforces controlled access.\n",
    "\n",
    "Example: Think of a class representing a car. It encapsulates attributes like engine, wheels, and methods like start(), stop(). These internal details are hidden from the outside, and interactions are controlled through methods."
   ]
  },
  {
   "cell_type": "code",
   "execution_count": 7,
   "id": "517286e0",
   "metadata": {},
   "outputs": [],
   "source": [
    "# Abstraction Example\n",
    "from abc import ABC, abstractmethod\n",
    "\n",
    "class Animal(ABC):\n",
    "    def __init__(self, species):\n",
    "        self.species = species\n",
    "\n",
    "    @abstractmethod\n",
    "    def make_sound(self):\n",
    "        pass\n",
    "\n",
    "class Dog(Animal):\n",
    "    def make_sound(self):\n",
    "        return \"Woof!\"\n",
    "\n",
    "class Cat(Animal):\n",
    "    def make_sound(self):\n",
    "        return \"Meow!\"\n",
    "\n",
    "# Encapsulation Example\n",
    "class Car:\n",
    "    def __init__(self, make, model):\n",
    "        self.__make = make  # Private attribute\n",
    "        self.__model = model  # Private attribute\n",
    "\n",
    "    def get_make(self):\n",
    "        return self.__make\n",
    "\n",
    "    def set_make(self, make):\n",
    "        self.__make = make\n",
    "\n",
    "    def get_model(self):\n",
    "        return self.__model\n",
    "\n",
    "    def set_model(self, model):\n",
    "        self.__model = model\n",
    "\n"
   ]
  },
  {
   "cell_type": "code",
   "execution_count": 8,
   "id": "65d3ec9c",
   "metadata": {},
   "outputs": [
    {
     "name": "stdout",
     "output_type": "stream",
     "text": [
      "Woof!\n",
      "Meow!\n",
      "Toyota\n",
      "Honda\n"
     ]
    }
   ],
   "source": [
    "# Using Abstraction\n",
    "dog = Dog(\"Canine\")\n",
    "print(dog.make_sound())  # Output: Woof!\n",
    "\n",
    "cat = Cat(\"Feline\")\n",
    "print(cat.make_sound())  # Output: Meow!\n",
    "\n",
    "# Using Encapsulation\n",
    "my_car = Car(\"Toyota\", \"Corolla\")\n",
    "print(my_car.get_make())  # Output: Toyota\n",
    "my_car.set_make(\"Honda\")\n",
    "print(my_car.get_make())  # Output: Honda"
   ]
  },
  {
   "cell_type": "markdown",
   "id": "f1259db3",
   "metadata": {},
   "source": [
    "### Q3. What is abc module in python? Why is it used?\n"
   ]
  },
  {
   "cell_type": "markdown",
   "id": "ec2fcfdb",
   "metadata": {},
   "source": [
    "The abc module in Python stands for \"Abstract Base Classes.\" It provides infrastructure for defining abstract base classes in Python.\n",
    "\n",
    "Abstract base classes (ABCs) are classes that are not meant to be instantiated on their own but serve as a template or blueprint for other classes. They often define a set of methods that must be implemented by their subclasses.\n",
    "\n",
    "The primary use of the abc module is to create abstract base classes and abstract methods, enforcing a structure that subclasses must adhere to. This helps in building a clear and consistent interface for related classes and ensures that certain methods are implemented across different subclasses.\n",
    "\n",
    "Key components of the abc module include:\n",
    "\n",
    "ABC (Abstract Base Class): It's a metaclass that allows you to create abstract base classes. Classes that inherit from ABC can have abstract methods.\n",
    "\n",
    "abstractmethod: It's a decorator used to define abstract methods within abstract classes. These methods don't contain an implementation in the abstract class but must be overridden in concrete subclasses.\n",
    "\n",
    "Here's a simple example illustrating the usage of the abc module:"
   ]
  },
  {
   "cell_type": "code",
   "execution_count": 5,
   "id": "c266cb5d",
   "metadata": {},
   "outputs": [],
   "source": [
    "from abc import ABC, abstractmethod\n",
    "\n",
    "# Creating an abstract base class using ABC\n",
    "class Shape(ABC):\n",
    "\n",
    "    @abstractmethod\n",
    "    def area(self):\n",
    "        pass\n",
    "\n",
    "    @abstractmethod\n",
    "    def perimeter(self):\n",
    "        pass\n",
    "\n",
    "# Creating concrete subclasses of Shape\n",
    "class Circle(Shape):\n",
    "\n",
    "    def __init__(self, radius):\n",
    "        self.radius = radius\n",
    "\n",
    "    def area(self):\n",
    "        return 3.14 * self.radius * self.radius\n",
    "\n",
    "    def perimeter(self):\n",
    "        return 2 * 3.14 * self.radius\n",
    "\n",
    "class Square(Shape):\n",
    "\n",
    "    def __init__(self, side):\n",
    "        self.side = side\n",
    "\n",
    "    def area(self):\n",
    "        return self.side * self.side\n",
    "\n",
    "    def perimeter(self):\n",
    "        return 4 * self.side\n",
    "\n"
   ]
  },
  {
   "cell_type": "code",
   "execution_count": 4,
   "id": "0d7f45c6",
   "metadata": {},
   "outputs": [
    {
     "name": "stdout",
     "output_type": "stream",
     "text": [
      "Circle Area: 78.5\n",
      "Circle Perimeter: 31.400000000000002\n",
      "Square Area: 16\n",
      "Square Perimeter: 16\n"
     ]
    }
   ],
   "source": [
    "# Creating instances of the concrete classes\n",
    "circle = Circle(5)\n",
    "square = Square(4)\n",
    "\n",
    "# Using the instances\n",
    "print(\"Circle Area:\", circle.area())  # Output: Circle Area: 78.5\n",
    "print(\"Circle Perimeter:\", circle.perimeter())  # Output: Circle Perimeter: 31.400000000000002\n",
    "print(\"Square Area:\", square.area())  # Output: Square Area: 16\n",
    "print(\"Square Perimeter:\", square.perimeter())  # Output: Square Perimeter: 16"
   ]
  },
  {
   "cell_type": "markdown",
   "id": "7015233f",
   "metadata": {},
   "source": [
    "### Q4. How can we achieve data abstraction?\n"
   ]
  },
  {
   "cell_type": "markdown",
   "id": "df1e2e39",
   "metadata": {},
   "source": [
    "Data abstraction is the process of hiding certain details and showing only essential information to the user. In object-oriented programming, data abstraction can be achieved through the use of abstract classes, interfaces, and access control mechanisms. Here are some ways to achieve data abstraction:"
   ]
  },
  {
   "cell_type": "markdown",
   "id": "93effd39",
   "metadata": {},
   "source": [
    "1. Abstract Classes: Abstract classes define abstract methods that must be implemented by their subclasses. They serve as a blueprint for other classes but cannot be instantiated on their own."
   ]
  },
  {
   "cell_type": "code",
   "execution_count": null,
   "id": "3dfa6713",
   "metadata": {},
   "outputs": [],
   "source": [
    "from abc import ABC, abstractmethod\n",
    "\n",
    "class Shape(ABC):\n",
    "    @abstractmethod\n",
    "    def area(self):\n",
    "        pass\n",
    "\n",
    "    @abstractmethod\n",
    "    def perimeter(self):\n",
    "        pass"
   ]
  },
  {
   "cell_type": "markdown",
   "id": "e5e05e14",
   "metadata": {},
   "source": [
    "2. Interfaces:Interfaces specify a set of methods that a class must implement without defining how they should be implemented. They provide a contract that concrete classes adhere to."
   ]
  },
  {
   "cell_type": "code",
   "execution_count": null,
   "id": "a2cd710e",
   "metadata": {},
   "outputs": [],
   "source": [
    "from abc import ABC, abstractmethod\n",
    "\n",
    "class Printable(ABC):\n",
    "    @abstractmethod\n",
    "    def print_info(self):\n",
    "        pass\n",
    "\n",
    "class Book(Printable):\n",
    "    def print_info(self):\n",
    "        print(\"Book: Harry Potter\")"
   ]
  },
  {
   "cell_type": "markdown",
   "id": "4d86bab8",
   "metadata": {},
   "source": [
    "3. Access Control: Encapsulating data by making attributes private and providing controlled access through methods (getters and setters) allows abstraction of the internal details."
   ]
  },
  {
   "cell_type": "code",
   "execution_count": 12,
   "id": "e1a48fb1",
   "metadata": {},
   "outputs": [],
   "source": [
    "class BankAccount:\n",
    "    def __init__(self):\n",
    "        self.balance = 0  # Private attribute\n",
    "\n",
    "    def deposit(self, amount):\n",
    "        if amount > 0:\n",
    "            self.balance += amount\n",
    "\n",
    "    def withdraw(self, amount):\n",
    "        if 0 < amount <= self.balance:\n",
    "            self.balance -= amount\n",
    "\n",
    "    def get_balance(self):\n",
    "        return self.balance  # Controlled access via method"
   ]
  },
  {
   "cell_type": "markdown",
   "id": "d596d239",
   "metadata": {},
   "source": [
    "### Q5. Can we create an instance of an abstract class? Explain your answer."
   ]
  },
  {
   "cell_type": "markdown",
   "id": "1bcdfcb6",
   "metadata": {},
   "source": [
    "In most programming languages that support abstract classes, you typically cannot create an instance of an abstract class directly.\n",
    "\n",
    "In Python, for instance, you cannot directly instantiate an abstract class. Attempting to do so will result in a TypeError. Abstract classes are designed to be incomplete, with one or more abstract methods that must be implemented by their concrete subclasses.\n",
    "\n",
    "Here's an example in Python using the abc module:"
   ]
  },
  {
   "cell_type": "code",
   "execution_count": 11,
   "id": "2a1d56f5",
   "metadata": {},
   "outputs": [
    {
     "ename": "TypeError",
     "evalue": "Can't instantiate abstract class Shape with abstract methods area, perimeter",
     "output_type": "error",
     "traceback": [
      "\u001b[1;31m---------------------------------------------------------------------------\u001b[0m",
      "\u001b[1;31mTypeError\u001b[0m                                 Traceback (most recent call last)",
      "Input \u001b[1;32mIn [11]\u001b[0m, in \u001b[0;36m<cell line: 13>\u001b[1;34m()\u001b[0m\n\u001b[0;32m     10\u001b[0m         \u001b[38;5;28;01mpass\u001b[39;00m\n\u001b[0;32m     12\u001b[0m \u001b[38;5;66;03m# Trying to create an instance of the abstract class (which is not allowed)\u001b[39;00m\n\u001b[1;32m---> 13\u001b[0m shape \u001b[38;5;241m=\u001b[39m \u001b[43mShape\u001b[49m\u001b[43m(\u001b[49m\u001b[43m)\u001b[49m\n",
      "\u001b[1;31mTypeError\u001b[0m: Can't instantiate abstract class Shape with abstract methods area, perimeter"
     ]
    }
   ],
   "source": [
    "from abc import ABC, abstractmethod\n",
    "\n",
    "class Shape(ABC):\n",
    "    @abstractmethod\n",
    "    def area(self):\n",
    "        pass\n",
    "\n",
    "    @abstractmethod\n",
    "    def perimeter(self):\n",
    "        pass\n",
    "\n",
    "# Trying to create an instance of the abstract class (which is not allowed)\n",
    "shape = Shape()  # This will raise an error"
   ]
  },
  {
   "cell_type": "code",
   "execution_count": null,
   "id": "c39cf47c",
   "metadata": {},
   "outputs": [],
   "source": []
  }
 ],
 "metadata": {
  "kernelspec": {
   "display_name": "Python 3 (ipykernel)",
   "language": "python",
   "name": "python3"
  },
  "language_info": {
   "codemirror_mode": {
    "name": "ipython",
    "version": 3
   },
   "file_extension": ".py",
   "mimetype": "text/x-python",
   "name": "python",
   "nbconvert_exporter": "python",
   "pygments_lexer": "ipython3",
   "version": "3.9.12"
  }
 },
 "nbformat": 4,
 "nbformat_minor": 5
}
