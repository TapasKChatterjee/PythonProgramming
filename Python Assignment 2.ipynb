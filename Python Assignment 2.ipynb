{
 "cells": [
  {
   "cell_type": "markdown",
   "id": "9695b8b8",
   "metadata": {},
   "source": [
    "### Q1. Which keyword is used to create a function? Create a function to return a list of odd numbers in the range of 1 to 25."
   ]
  },
  {
   "cell_type": "markdown",
   "id": "2435aaf9",
   "metadata": {},
   "source": [
    "def keyword is used to create a function"
   ]
  },
  {
   "cell_type": "code",
   "execution_count": 1,
   "id": "14af7eaf",
   "metadata": {},
   "outputs": [],
   "source": [
    "def return_odd_list():\n",
    "    lst=[]\n",
    "    for i in range(1,26):\n",
    "        if i%2 !=0:\n",
    "            lst.append(i)\n",
    "    return lst"
   ]
  },
  {
   "cell_type": "code",
   "execution_count": 3,
   "id": "6e5061eb",
   "metadata": {},
   "outputs": [
    {
     "data": {
      "text/plain": [
       "[1, 3, 5, 7, 9, 11, 13, 15, 17, 19, 21, 23, 25]"
      ]
     },
     "execution_count": 3,
     "metadata": {},
     "output_type": "execute_result"
    }
   ],
   "source": [
    "return_odd_list()"
   ]
  },
  {
   "cell_type": "markdown",
   "id": "c98944f0",
   "metadata": {},
   "source": [
    "### Q2. Why *args and **kwargs is used in some functions? Create a function each for *args and **kwargs to demonstrate their use."
   ]
  },
  {
   "cell_type": "markdown",
   "id": "1d6fd547",
   "metadata": {},
   "source": [
    "*args and ** kwargs are used in Python functions to handle variable numbers of arguments.\n",
    "\n",
    "*args is used to pass a variable number of non-keyworded arguments to a function. \n",
    "\n",
    "It collects extra positional arguments as a tuple."
   ]
  },
  {
   "cell_type": "code",
   "execution_count": 24,
   "id": "e521b327",
   "metadata": {},
   "outputs": [],
   "source": [
    "def sum_values(*args):\n",
    "    result = 0\n",
    "    for num in args:\n",
    "        result += num\n",
    "    return result\n",
    "\n"
   ]
  },
  {
   "cell_type": "code",
   "execution_count": 25,
   "id": "dd9f0a2a",
   "metadata": {},
   "outputs": [
    {
     "name": "stdout",
     "output_type": "stream",
     "text": [
      "6\n"
     ]
    }
   ],
   "source": [
    "# Passing different numbers of arguments\n",
    "print(sum_values(1, 2, 3))  # Output: 6"
   ]
  },
  {
   "cell_type": "code",
   "execution_count": 26,
   "id": "013ed557",
   "metadata": {},
   "outputs": [
    {
     "name": "stdout",
     "output_type": "stream",
     "text": [
      "50\n"
     ]
    }
   ],
   "source": [
    "# Passing different numbers of arguments\n",
    "print(sum_values(5, 10, 15, 20))  # Output: 50"
   ]
  },
  {
   "cell_type": "markdown",
   "id": "1f697058",
   "metadata": {},
   "source": [
    "**kwargs is used to pass a variable number of keyword arguments to a function. It collects extra keyword arguments as a dictionary.\n",
    "\n",
    "Here's an example demonstrating the use of **kwargs:"
   ]
  },
  {
   "cell_type": "code",
   "execution_count": 29,
   "id": "63454378",
   "metadata": {},
   "outputs": [
    {
     "name": "stdout",
     "output_type": "stream",
     "text": [
      "Hello, Ram! You are 25 years old.\n",
      "Hello, Charan! You are 30 years old.\n",
      "Hello, Allu! You are 22 years old.\n"
     ]
    }
   ],
   "source": [
    "def greet_people(**kwargs):\n",
    "    for key, value in kwargs.items():\n",
    "        print(f\"Hello, {key}! You are {value} years old.\")\n",
    "\n",
    "# Passing different keyword arguments\n",
    "greet_people(Ram=25, Charan=30, Allu=22)"
   ]
  },
  {
   "cell_type": "markdown",
   "id": "c090e957",
   "metadata": {},
   "source": [
    "### Q3. What is an iterator in python? Name the method used to initialise the iterator object and the method used for iteration. Use these methods to print the first five elements of the given list [2, 4, 6, 8, 10, 12, 14,16, 18, 20]."
   ]
  },
  {
   "cell_type": "markdown",
   "id": "edee149a",
   "metadata": {},
   "source": [
    "In Python, an iterator is an object that allows iteration through a collection, sequence, or container. It provides a way to access the elements of a container one at a time without needing to know the internal structure of the container.\n",
    "\n",
    "To create an iterator object in Python, you can use the iter() method, and for iteration, you can use the next() method to access the elements.\n",
    "\n",
    "Here's how you can print the first five elements of the list [2, 4, 6, 8, 10, 12, 14, 16, 18, 20] using iterators:"
   ]
  },
  {
   "cell_type": "code",
   "execution_count": 2,
   "id": "7eacc34e",
   "metadata": {},
   "outputs": [
    {
     "name": "stdout",
     "output_type": "stream",
     "text": [
      "2\n",
      "4\n",
      "6\n",
      "8\n",
      "10\n"
     ]
    }
   ],
   "source": [
    "# Initialize the iterator object\n",
    "my_list = [2, 4, 6, 8, 10, 12, 14, 16, 18, 20]\n",
    "iterator = iter(my_list)\n",
    "\n",
    "# Iteration using the next() method\n",
    "for _ in range(5):  # Printing the first five elements\n",
    "    print(next(iterator))"
   ]
  },
  {
   "cell_type": "markdown",
   "id": "2ecd3b0b",
   "metadata": {},
   "source": [
    "### Q4. What is a generator function in python? Why yield keyword is used? Give an example of a generator function."
   ]
  },
  {
   "cell_type": "markdown",
   "id": "07bee23d",
   "metadata": {},
   "source": [
    "A generator function is a special type of function that generates a sequence of values using the yield keyword. \n",
    "\n",
    "When a function contains the yield statement, it becomes a generator. \n",
    "\n",
    "The yield keyword is used to yield values one at a time, allowing the function to pause its execution and retain its state between calls.\n"
   ]
  },
  {
   "cell_type": "code",
   "execution_count": 1,
   "id": "d925918c",
   "metadata": {},
   "outputs": [
    {
     "name": "stdout",
     "output_type": "stream",
     "text": [
      "0\n",
      "2\n",
      "4\n",
      "6\n",
      "8\n"
     ]
    }
   ],
   "source": [
    "def even_numbers(n):\n",
    "    for i in range(n):\n",
    "        if i % 2 == 0:\n",
    "            yield i\n",
    "\n",
    "# Using the generator function\n",
    "even_gen = even_numbers(10)\n",
    "\n",
    "# Iterating through the generator to get the values\n",
    "for num in even_gen:\n",
    "    print(num)"
   ]
  },
  {
   "cell_type": "markdown",
   "id": "c5dd16c2",
   "metadata": {},
   "source": [
    "In this example, even_numbers is a generator function that yields even numbers up to n.\n",
    "\n",
    "When even_numbers(10) is called, it doesn't immediately execute the function. Instead, it returns a generator object.\n",
    "\n",
    "The for loop then iterates through the generator, and each time it encounters the yield statement, it pauses and yields the current value (i in this case)."
   ]
  },
  {
   "cell_type": "markdown",
   "id": "95f0d3f4",
   "metadata": {},
   "source": [
    "### Q5. Create a generator function for prime numbers less than 1000. Use the next() method to print the first 20 prime numbers."
   ]
  },
  {
   "cell_type": "code",
   "execution_count": 3,
   "id": "36a8b741",
   "metadata": {},
   "outputs": [],
   "source": [
    "def is_prime(num):\n",
    "    if num < 2:\n",
    "        return False\n",
    "    for i in range(2, int(num**0.5) + 1):\n",
    "        if num % i == 0:\n",
    "            return False\n",
    "    return True\n",
    "\n"
   ]
  },
  {
   "cell_type": "code",
   "execution_count": 4,
   "id": "55f4f49d",
   "metadata": {},
   "outputs": [],
   "source": [
    "def prime_generator(limit):\n",
    "    num = 2\n",
    "    count = 0\n",
    "    while count < limit:\n",
    "        if is_prime(num):\n",
    "            yield num\n",
    "            count += 1\n",
    "        num += 1\n",
    "\n"
   ]
  },
  {
   "cell_type": "code",
   "execution_count": 5,
   "id": "a5de847c",
   "metadata": {},
   "outputs": [
    {
     "name": "stdout",
     "output_type": "stream",
     "text": [
      "2\n",
      "3\n",
      "5\n",
      "7\n",
      "11\n",
      "13\n",
      "17\n",
      "19\n",
      "23\n",
      "29\n",
      "31\n",
      "37\n",
      "41\n",
      "43\n",
      "47\n",
      "53\n",
      "59\n",
      "61\n",
      "67\n",
      "71\n"
     ]
    }
   ],
   "source": [
    "# Using the generator function to print the first 20 prime numbers\n",
    "prime_gen = prime_generator(20)\n",
    "\n",
    "for _ in range(20):\n",
    "    print(next(prime_gen))"
   ]
  },
  {
   "cell_type": "markdown",
   "id": "4047aaf8",
   "metadata": {},
   "source": [
    "This code defines a prime_generator() function that generates prime numbers using a while loop and the is_prime() function, which checks if a number is prime.\n",
    "\n",
    "The prime_generator() function is a generator that yields prime numbers less than 1000.\n",
    "\n",
    "The for loop then uses the next() method to obtain the first 20 prime numbers from the generator and prints them out."
   ]
  },
  {
   "cell_type": "markdown",
   "id": "ab4c8c94",
   "metadata": {},
   "source": [
    "### Q6. Write a python program to print the first 10 Fibonacci numbers using a while loop."
   ]
  },
  {
   "cell_type": "code",
   "execution_count": 2,
   "id": "c47934cb",
   "metadata": {},
   "outputs": [
    {
     "name": "stdout",
     "output_type": "stream",
     "text": [
      "0\n",
      "1\n",
      "1\n",
      "2\n",
      "3\n",
      "5\n",
      "8\n",
      "13\n",
      "21\n",
      "34\n"
     ]
    }
   ],
   "source": [
    "a=0\n",
    "b=1\n",
    "count=1\n",
    "while count<=10:\n",
    "    print(a)\n",
    "    c=a+b\n",
    "    a=b\n",
    "    b=c\n",
    "    count+=1"
   ]
  },
  {
   "cell_type": "markdown",
   "id": "1b2918f4",
   "metadata": {},
   "source": [
    "### Q7. Write a List Comprehension to iterate through the given string: ‘pwskills’. Expected output: ['p', 'w', 's', 'k', 'i', 'l', 'l', 's']"
   ]
  },
  {
   "cell_type": "code",
   "execution_count": 31,
   "id": "d5a9dd1b",
   "metadata": {},
   "outputs": [
    {
     "name": "stdout",
     "output_type": "stream",
     "text": [
      "['p', 'w', 's', 'k', 'i', 'l', 'l', 's']\n"
     ]
    }
   ],
   "source": [
    "string = 'pwskills'\n",
    "output_list = [char for char in string]\n",
    "print(output_list)"
   ]
  },
  {
   "cell_type": "markdown",
   "id": "49df963d",
   "metadata": {},
   "source": [
    "### Q8. Write a python program to check whether a given number is Palindrome or not using a while loop."
   ]
  },
  {
   "cell_type": "code",
   "execution_count": 38,
   "id": "9ac0d939",
   "metadata": {},
   "outputs": [
    {
     "name": "stdout",
     "output_type": "stream",
     "text": [
      "Enter a number12321\n",
      "original number : 12321\n",
      "reverse Number : 12321\n",
      "The number 12321 is a palindrome\n"
     ]
    }
   ],
   "source": [
    "num=input(\"Enter a number\")\n",
    "rev_num=\"\"\n",
    "length=len(num)\n",
    "count=0\n",
    "while length>0:\n",
    "    rev_num=rev_num+num[length-1]\n",
    "    length=length-1\n",
    "print(\"original number :\", rev_num) \n",
    "print(\"reverse Number :\",num)\n",
    "if num==rev_num:\n",
    "    print(\"The number\", num, \"is a palindrome\")\n",
    "else:\n",
    "    print(\"The number\", num, \"is not a palindrome\")\n"
   ]
  },
  {
   "cell_type": "markdown",
   "id": "b4ec523e",
   "metadata": {},
   "source": [
    "### Q9. Write a code to print odd numbers from 1 to 100 using list comprehension.\n"
   ]
  },
  {
   "cell_type": "code",
   "execution_count": 42,
   "id": "d3128c95",
   "metadata": {},
   "outputs": [
    {
     "name": "stdout",
     "output_type": "stream",
     "text": [
      "[1, 3, 5, 7, 9, 11, 13, 15, 17, 19, 21, 23, 25, 27, 29, 31, 33, 35, 37, 39, 41, 43, 45, 47, 49, 51, 53, 55, 57, 59, 61, 63, 65, 67, 69, 71, 73, 75, 77, 79, 81, 83, 85, 87, 89, 91, 93, 95, 97, 99]\n"
     ]
    }
   ],
   "source": [
    "odd_list=[i for i in range(1,101,1) if i%2 !=0]\n",
    "print(odd_list)"
   ]
  },
  {
   "cell_type": "code",
   "execution_count": null,
   "id": "dcfeab0c",
   "metadata": {},
   "outputs": [],
   "source": []
  }
 ],
 "metadata": {
  "kernelspec": {
   "display_name": "Python 3 (ipykernel)",
   "language": "python",
   "name": "python3"
  },
  "language_info": {
   "codemirror_mode": {
    "name": "ipython",
    "version": 3
   },
   "file_extension": ".py",
   "mimetype": "text/x-python",
   "name": "python",
   "nbconvert_exporter": "python",
   "pygments_lexer": "ipython3",
   "version": "3.9.12"
  }
 },
 "nbformat": 4,
 "nbformat_minor": 5
}
