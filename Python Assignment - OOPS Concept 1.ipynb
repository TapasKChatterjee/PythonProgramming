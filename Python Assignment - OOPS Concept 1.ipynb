{
 "cells": [
  {
   "cell_type": "markdown",
   "id": "4f661e54",
   "metadata": {},
   "source": [
    "### Q1. Explain Class and Object with respect to Object-Oriented Programming. Give a suitable example.\n"
   ]
  },
  {
   "cell_type": "markdown",
   "id": "62f7a84a",
   "metadata": {},
   "source": [
    "In object-oriented programming (OOP), a class is a blueprint or a template for creating objects. It defines the properties (attributes) and behaviors (methods) that objects of that class will have. An object, on the other hand, is an instance of a class. It is a concrete realization or instantiation of the class, possessing its own unique characteristics while following the structure defined by the class.\n",
    "\n",
    "Example"
   ]
  },
  {
   "cell_type": "code",
   "execution_count": 1,
   "id": "853c3e51",
   "metadata": {},
   "outputs": [
    {
     "name": "stdout",
     "output_type": "stream",
     "text": [
      "Toyota Corolla\n",
      "Tesla Model S\n",
      "20\n",
      "30\n",
      "10\n"
     ]
    }
   ],
   "source": [
    "# Defining a class named 'Car'\n",
    "class Car:\n",
    "    def __init__(self, make, model):\n",
    "        self.make = make\n",
    "        self.model = model\n",
    "        self.speed = 0  # Initial speed\n",
    "\n",
    "    def accelerate(self, increment):\n",
    "        self.speed += increment\n",
    "\n",
    "    def brake(self, decrement):\n",
    "        self.speed -= decrement\n",
    "        if self.speed < 0:\n",
    "            self.speed = 0\n",
    "\n",
    "# Creating objects of the 'Car' class\n",
    "car1 = Car('Toyota', 'Corolla')  # Creating an instance of Car\n",
    "car2 = Car('Tesla', 'Model S')   # Creating another instance of Car\n",
    "\n",
    "# Accessing attributes and calling methods of objects\n",
    "print(car1.make, car1.model)  # Output: Toyota Corolla\n",
    "print(car2.make, car2.model)  # Output: Tesla Model S\n",
    "\n",
    "car1.accelerate(20)  # Car 1 accelerates by 20 units\n",
    "print(car1.speed)    # Output: 20\n",
    "\n",
    "car2.accelerate(30)  # Car 2 accelerates by 30 units\n",
    "print(car2.speed)    # Output: 30\n",
    "\n",
    "car1.brake(10)       # Car 1 applies brakes by 10 units\n",
    "print(car1.speed)    # Output: 10"
   ]
  },
  {
   "cell_type": "markdown",
   "id": "50647cdf",
   "metadata": {},
   "source": [
    "### Q2. Name the four pillars of OOPs.\n"
   ]
  },
  {
   "cell_type": "markdown",
   "id": "04d46f13",
   "metadata": {},
   "source": [
    "The four fundamental principles or pillars of object-oriented programming (OOP) are:\n",
    "\n",
    "Encapsulation: Encapsulation is the concept of bundling data (attributes) and methods (functions) that operate on the data into a single unit, i.e., a class. It restricts access to some of the object's components, preventing direct modification or access and enforcing the use of getter and setter methods for controlled access.\n",
    "\n",
    "Abstraction: Abstraction involves hiding the complex implementation details and showing only the necessary features of an object. It focuses on what an object does rather than how it does it. Abstract classes and interfaces in OOP provide a blueprint for other classes and define a set of methods without implementation details.\n",
    "\n",
    "Inheritance: Inheritance is a mechanism where one class (derived or child class) inherits properties and behaviors from another class (base or parent class). It promotes code reusability by allowing a class to inherit attributes and methods from another class and extend or override them.\n",
    "\n",
    "Polymorphism: Polymorphism allows objects of different classes to be treated as objects of a common superclass. It enables a single interface to be used for entities of different types. Polymorphism in OOP takes different forms: method overriding (providing a specific implementation of a method in a subclass), and method overloading (having multiple methods with the same name but different parameters).\n",
    "\n",
    "These four principles form the foundation of object-oriented programming and guide the design, implementation, and interaction of objects in a system, promoting code organization, modularity, and flexibility."
   ]
  },
  {
   "cell_type": "markdown",
   "id": "0acf20e8",
   "metadata": {},
   "source": [
    "### Q3. Explain why the __init__() function is used. Give a suitable example.\n"
   ]
  },
  {
   "cell_type": "markdown",
   "id": "0ba8fe84",
   "metadata": {},
   "source": [
    "The __init__() method in Python is a special method, also known as the constructor.\n",
    "\n",
    "It is automatically called when a new instance of a class is created. \n",
    "\n",
    "Its primary purpose is to initialize the attributes of the object or perform any setup that's necessary before the object is used.\n",
    "\n",
    "Here's an example to illustrate the use of __init__():"
   ]
  },
  {
   "cell_type": "code",
   "execution_count": 3,
   "id": "ad683852",
   "metadata": {},
   "outputs": [
    {
     "name": "stdout",
     "output_type": "stream",
     "text": [
      "Name: Alice, Age: 25\n",
      "Name: Bob, Age: 30\n"
     ]
    }
   ],
   "source": [
    "class Person:\n",
    "    def __init__(self, name, age):\n",
    "        self.name = name\n",
    "        self.age = age\n",
    "\n",
    "    def display_info(self):\n",
    "        print(f\"Name: {self.name}, Age: {self.age}\")\n",
    "\n",
    "# Creating instances of the Person class\n",
    "person1 = Person(\"Alice\", 25)\n",
    "person2 = Person(\"Bob\", 30)\n",
    "\n",
    "# Accessing attributes and calling methods of objects\n",
    "person1.display_info()\n",
    "person2.display_info()"
   ]
  },
  {
   "cell_type": "markdown",
   "id": "7909c2b1",
   "metadata": {},
   "source": [
    "### Q4. Why self is used in OOPs?"
   ]
  },
  {
   "cell_type": "markdown",
   "id": "e82c18f1",
   "metadata": {},
   "source": [
    "In object-oriented programming (OOP) in Python, self is a convention and a reference to the instance of the class. It represents the current instance of the class and allows access to the attributes and methods of that instance within the class definition.\n",
    "\n",
    "When you define methods within a class, including the __init__() constructor method or any other instance method, you need to explicitly include self as the first parameter in the method signature. This convention is followed in Python, though the name self itself is a matter of convention and can be replaced with any other valid variable name. However, it is highly recommended to use self for clarity and consistency, as it is widely recognized by Python programmers."
   ]
  },
  {
   "cell_type": "code",
   "execution_count": 5,
   "id": "c0d58dac",
   "metadata": {},
   "outputs": [],
   "source": [
    "class MyClass:\n",
    "    def __init__(self, value):\n",
    "        self.value = value\n",
    "\n",
    "    def display_value(self):\n",
    "        print(f\"The value is: {self.value}\")\n",
    "\n"
   ]
  },
  {
   "cell_type": "code",
   "execution_count": 6,
   "id": "62e326ee",
   "metadata": {},
   "outputs": [
    {
     "name": "stdout",
     "output_type": "stream",
     "text": [
      "The value is: 10\n"
     ]
    }
   ],
   "source": [
    "# Creating an instance of MyClass\n",
    "obj = MyClass(10)\n",
    "\n",
    "# Accessing the attribute and calling the method using the object\n",
    "obj.display_value()"
   ]
  },
  {
   "cell_type": "markdown",
   "id": "ec10396e",
   "metadata": {},
   "source": [
    "### Q5. What is inheritance? Give an example for each type of inheritance."
   ]
  },
  {
   "cell_type": "markdown",
   "id": "606412fb",
   "metadata": {},
   "source": [
    "Inheritance is a fundamental concept in object-oriented programming (OOP) that allows a new class (derived or child class) to inherit properties and behaviors (attributes and methods) from an existing class (base or parent class). This helps in code reusability, promoting the reuse of existing code while allowing for extension and modification in the derived class.\n",
    "\n",
    "There are several types of inheritance:"
   ]
  },
  {
   "cell_type": "markdown",
   "id": "ef3bc3c5",
   "metadata": {},
   "source": [
    "#### Single Inheritance:\n",
    "\n",
    "In single inheritance, a derived class inherits from only one base class.\n",
    "Example of Single Inheritance:"
   ]
  },
  {
   "cell_type": "code",
   "execution_count": 8,
   "id": "b9140640",
   "metadata": {},
   "outputs": [],
   "source": [
    "# Base class\n",
    "class Vehicle:\n",
    "    def __init__(self, brand):\n",
    "        self.brand = brand\n",
    "\n",
    "    def show_brand(self):\n",
    "        print(f\"Brand: {self.brand}\")\n",
    "\n",
    "# Derived class inheriting from Vehicle\n",
    "class Car(Vehicle):\n",
    "    def __init__(self, brand, model):\n",
    "        super().__init__(brand)\n",
    "        self.model = model\n",
    "\n",
    "    def show_model(self):\n",
    "        print(f\"Model: {self.model}\")\n",
    "\n"
   ]
  },
  {
   "cell_type": "code",
   "execution_count": 9,
   "id": "07464baf",
   "metadata": {},
   "outputs": [
    {
     "name": "stdout",
     "output_type": "stream",
     "text": [
      "Brand: Toyota\n",
      "Model: Corolla\n"
     ]
    }
   ],
   "source": [
    "# Creating an instance of Car\n",
    "my_car = Car(\"Toyota\", \"Corolla\")\n",
    "\n",
    "# Accessing methods from both classes\n",
    "my_car.show_brand()\n",
    "my_car.show_model()"
   ]
  },
  {
   "cell_type": "markdown",
   "id": "0d773035",
   "metadata": {},
   "source": [
    "#### Multiple Inheritance:\n",
    "\n",
    "Multiple inheritance occurs when a derived class inherits from more than one base class.\n",
    "Example of Multiple Inheritance:"
   ]
  },
  {
   "cell_type": "code",
   "execution_count": 11,
   "id": "a6f7e505",
   "metadata": {},
   "outputs": [],
   "source": [
    "# Base class 1\n",
    "class A:\n",
    "    def method_A(self):\n",
    "        print(\"Method from class A\")\n",
    "\n",
    "# Base class 2\n",
    "class B:\n",
    "    def method_B(self):\n",
    "        print(\"Method from class B\")\n",
    "\n",
    "# Derived class inheriting from A and B\n",
    "class C(A, B):\n",
    "    def method_C(self):\n",
    "        print(\"Method from class C\")\n",
    "\n"
   ]
  },
  {
   "cell_type": "code",
   "execution_count": 12,
   "id": "33548d50",
   "metadata": {},
   "outputs": [
    {
     "name": "stdout",
     "output_type": "stream",
     "text": [
      "Method from class A\n",
      "Method from class B\n",
      "Method from class C\n"
     ]
    }
   ],
   "source": [
    "# Creating an instance of C\n",
    "obj_c = C()\n",
    "\n",
    "# Accessing methods from all classes\n",
    "obj_c.method_A()\n",
    "obj_c.method_B()\n",
    "obj_c.method_C()"
   ]
  },
  {
   "cell_type": "markdown",
   "id": "d0996d21",
   "metadata": {},
   "source": [
    "#### Multilevel Inheritance:\n",
    "Multilevel inheritance occurs when a class is derived from another derived class.\n",
    "Example of Multilevel Inheritance:"
   ]
  },
  {
   "cell_type": "code",
   "execution_count": 14,
   "id": "c7af1c07",
   "metadata": {},
   "outputs": [],
   "source": [
    "# Base class\n",
    "class Animal:\n",
    "    def speak(self):\n",
    "        print(\"Animal speaks\")\n",
    "\n",
    "# Intermediate class inheriting from Animal\n",
    "class Dog(Animal):\n",
    "    def bark(self):\n",
    "        print(\"Dog barks\")\n",
    "\n",
    "# Derived class inheriting from Dog\n",
    "class Puppy(Dog):\n",
    "    def play(self):\n",
    "        print(\"Puppy plays\")\n",
    "\n"
   ]
  },
  {
   "cell_type": "code",
   "execution_count": 15,
   "id": "f1a68efd",
   "metadata": {},
   "outputs": [
    {
     "name": "stdout",
     "output_type": "stream",
     "text": [
      "Animal speaks\n",
      "Dog barks\n",
      "Puppy plays\n"
     ]
    }
   ],
   "source": [
    "# Creating an instance of Puppy\n",
    "my_puppy = Puppy()\n",
    "\n",
    "# Accessing methods from all classes\n",
    "my_puppy.speak()\n",
    "my_puppy.bark()\n",
    "my_puppy.play()"
   ]
  },
  {
   "cell_type": "code",
   "execution_count": null,
   "id": "66fb8f5e",
   "metadata": {},
   "outputs": [],
   "source": []
  }
 ],
 "metadata": {
  "kernelspec": {
   "display_name": "Python 3 (ipykernel)",
   "language": "python",
   "name": "python3"
  },
  "language_info": {
   "codemirror_mode": {
    "name": "ipython",
    "version": 3
   },
   "file_extension": ".py",
   "mimetype": "text/x-python",
   "name": "python",
   "nbconvert_exporter": "python",
   "pygments_lexer": "ipython3",
   "version": "3.9.12"
  }
 },
 "nbformat": 4,
 "nbformat_minor": 5
}
